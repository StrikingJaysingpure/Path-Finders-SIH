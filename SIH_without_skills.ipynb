{
  "nbformat": 4,
  "nbformat_minor": 0,
  "metadata": {
    "colab": {
      "provenance": [],
      "include_colab_link": true
    },
    "kernelspec": {
      "name": "python3",
      "display_name": "Python 3"
    },
    "language_info": {
      "name": "python"
    }
  },
  "cells": [
    {
      "cell_type": "markdown",
      "metadata": {
        "id": "view-in-github",
        "colab_type": "text"
      },
      "source": [
        "<a href=\"https://colab.research.google.com/github/StrikingJaysingpure/Path-Finders-SIH/blob/AI-Model/SIH_without_skills.ipynb\" target=\"_parent\"><img src=\"https://colab.research.google.com/assets/colab-badge.svg\" alt=\"Open In Colab\"/></a>"
      ]
    },
    {
      "cell_type": "markdown",
      "source": [
        "# Importing Libraries"
      ],
      "metadata": {
        "id": "QsuimSZcRyyL"
      }
    },
    {
      "cell_type": "code",
      "source": [
        "%pip install catboost"
      ],
      "metadata": {
        "colab": {
          "base_uri": "https://localhost:8080/"
        },
        "id": "iQqdEafjxVoz",
        "outputId": "fd86d544-f658-4222-986b-d364680b672f"
      },
      "execution_count": null,
      "outputs": [
        {
          "output_type": "stream",
          "name": "stdout",
          "text": [
            "Requirement already satisfied: catboost in /usr/local/lib/python3.12/dist-packages (1.2.8)\n",
            "Requirement already satisfied: graphviz in /usr/local/lib/python3.12/dist-packages (from catboost) (0.21)\n",
            "Requirement already satisfied: matplotlib in /usr/local/lib/python3.12/dist-packages (from catboost) (3.10.0)\n",
            "Requirement already satisfied: numpy<3.0,>=1.16.0 in /usr/local/lib/python3.12/dist-packages (from catboost) (2.0.2)\n",
            "Requirement already satisfied: pandas>=0.24 in /usr/local/lib/python3.12/dist-packages (from catboost) (2.2.2)\n",
            "Requirement already satisfied: scipy in /usr/local/lib/python3.12/dist-packages (from catboost) (1.16.1)\n",
            "Requirement already satisfied: plotly in /usr/local/lib/python3.12/dist-packages (from catboost) (5.24.1)\n",
            "Requirement already satisfied: six in /usr/local/lib/python3.12/dist-packages (from catboost) (1.17.0)\n",
            "Requirement already satisfied: python-dateutil>=2.8.2 in /usr/local/lib/python3.12/dist-packages (from pandas>=0.24->catboost) (2.9.0.post0)\n",
            "Requirement already satisfied: pytz>=2020.1 in /usr/local/lib/python3.12/dist-packages (from pandas>=0.24->catboost) (2025.2)\n",
            "Requirement already satisfied: tzdata>=2022.7 in /usr/local/lib/python3.12/dist-packages (from pandas>=0.24->catboost) (2025.2)\n",
            "Requirement already satisfied: contourpy>=1.0.1 in /usr/local/lib/python3.12/dist-packages (from matplotlib->catboost) (1.3.3)\n",
            "Requirement already satisfied: cycler>=0.10 in /usr/local/lib/python3.12/dist-packages (from matplotlib->catboost) (0.12.1)\n",
            "Requirement already satisfied: fonttools>=4.22.0 in /usr/local/lib/python3.12/dist-packages (from matplotlib->catboost) (4.59.2)\n",
            "Requirement already satisfied: kiwisolver>=1.3.1 in /usr/local/lib/python3.12/dist-packages (from matplotlib->catboost) (1.4.9)\n",
            "Requirement already satisfied: packaging>=20.0 in /usr/local/lib/python3.12/dist-packages (from matplotlib->catboost) (25.0)\n",
            "Requirement already satisfied: pillow>=8 in /usr/local/lib/python3.12/dist-packages (from matplotlib->catboost) (11.3.0)\n",
            "Requirement already satisfied: pyparsing>=2.3.1 in /usr/local/lib/python3.12/dist-packages (from matplotlib->catboost) (3.2.3)\n",
            "Requirement already satisfied: tenacity>=6.2.0 in /usr/local/lib/python3.12/dist-packages (from plotly->catboost) (8.5.0)\n"
          ]
        }
      ]
    },
    {
      "cell_type": "code",
      "source": [
        "import pandas as pd\n",
        "from catboost import CatBoostClassifier\n",
        "from sklearn.model_selection import train_test_split\n",
        "from sklearn.preprocessing import LabelEncoder\n",
        "import numpy as np"
      ],
      "metadata": {
        "id": "qGukT2tASC7d"
      },
      "execution_count": null,
      "outputs": []
    },
    {
      "cell_type": "markdown",
      "source": [
        "# Importing the Dataset"
      ],
      "metadata": {
        "id": "zs9am0HER4Rb"
      }
    },
    {
      "cell_type": "code",
      "source": [
        "df = pd.read_csv(\"withoutskills_updated.csv\")\n",
        "X = df.drop(columns=[ \"Company Name (PMIS Partner)\",\"Position/Role Offered\"])\n",
        "y2 = df[\"Position/Role Offered\"]\n",
        "y1=df[\"Company Name (PMIS Partner)\"]\n"
      ],
      "metadata": {
        "id": "ExP8fFemSD52"
      },
      "execution_count": null,
      "outputs": []
    },
    {
      "cell_type": "markdown",
      "source": [
        "# Encoding Categorical Data\n"
      ],
      "metadata": {
        "id": "JwTjfu5-Sjnx"
      }
    },
    {
      "cell_type": "code",
      "source": [
        "label_enc1 = LabelEncoder()\n",
        "label_enc2 = LabelEncoder()\n",
        "y_encoded1 = label_enc1.fit_transform(y1)\n",
        "y_encoded2 = label_enc2.fit_transform(y2)\n",
        "y_series1 = pd.Series(y_encoded1, index=X.index, name=\"company\")\n",
        "y_series2 = pd.Series(y_encoded2, index=X.index, name=\"role\")\n",
        "\n"
      ],
      "metadata": {
        "id": "vxLkpgbpaJSb"
      },
      "execution_count": null,
      "outputs": []
    },
    {
      "cell_type": "markdown",
      "source": [
        "# Taking Care of Missing Data"
      ],
      "metadata": {
        "id": "a4BgtXMXbZWi"
      }
    },
    {
      "cell_type": "code",
      "source": [
        "for col in X.columns:\n",
        "    if X[col].dtype == \"object\":\n",
        "        X[col] = X[col].fillna(\"Unknown\")"
      ],
      "metadata": {
        "id": "kyA-ysDp5u1z"
      },
      "execution_count": null,
      "outputs": []
    },
    {
      "cell_type": "markdown",
      "source": [
        "#Categorical Features"
      ],
      "metadata": {
        "id": "DnJLJ4rW6aOu"
      }
    },
    {
      "cell_type": "code",
      "source": [
        "cat_features = [col for col in X.columns if X[col].dtype == \"object\"]\n"
      ],
      "metadata": {
        "id": "Tg55BYHR55uv"
      },
      "execution_count": null,
      "outputs": []
    },
    {
      "cell_type": "markdown",
      "source": [
        "# Dividing the Dataset into Training Set and Test Set"
      ],
      "metadata": {
        "id": "csd_tDNkcOe4"
      }
    },
    {
      "cell_type": "code",
      "source": [
        "X_train1, X_test1, y_train1, y_test1 = train_test_split(\n",
        "    X, y_encoded1, test_size=0.2, random_state=42, stratify=y_encoded1\n",
        ")\n",
        "X_train2, X_test2, y_train2, y_test2 = train_test_split(\n",
        "    X, y_encoded1, test_size=0.2, random_state=42, stratify=y_encoded1\n",
        ")"
      ],
      "metadata": {
        "id": "MtbogDDbcZ08"
      },
      "execution_count": null,
      "outputs": []
    },
    {
      "cell_type": "code",
      "source": [
        "X_train, X_test, y_train2, y_test2 = train_test_split(\n",
        "    X, y_encoded2, test_size=0.2, random_state=42, stratify=y_encoded2\n",
        ")"
      ],
      "metadata": {
        "id": "Z5wdCguWAnHf"
      },
      "execution_count": null,
      "outputs": []
    },
    {
      "cell_type": "code",
      "source": [
        "# from sklearn.model_selection import train_test_split\n",
        "\n",
        "X_train, X_test, y_train1, y_test1 = train_test_split(\n",
        "    X, y_series1, test_size=0.2, random_state=42, stratify=y_series1\n",
        ")\n",
        "\n",
        "# Align y2 with same indices\n",
        "y_train2 = y_series2.loc[y_train1.index]\n",
        "y_test2  = y_series2.loc[y_test1.index]"
      ],
      "metadata": {
        "id": "OBQVEL-X6IBS"
      },
      "execution_count": null,
      "outputs": []
    },
    {
      "cell_type": "markdown",
      "source": [
        "# CatBoost Model"
      ],
      "metadata": {
        "id": "XBnipEROddWp"
      }
    },
    {
      "cell_type": "code",
      "source": [
        "\n",
        "model1 = CatBoostClassifier(\n",
        "    iterations=80,           # fewer iterations\n",
        "    depth=5,                 # shallower trees\n",
        "    learning_rate=0.2,       # faster convergence\n",
        "    loss_function=\"MultiClass\",\n",
        "    eval_metric=\"Accuracy\",\n",
        "    verbose=0,\n",
        "    random_seed=42,\n",
        "    early_stopping_rounds=10\n",
        ")\n",
        "model2 = CatBoostClassifier(\n",
        "    iterations=80,           # fewer iterations\n",
        "    depth=5,                 # shallower trees\n",
        "    learning_rate=0.2,       # faster convergence\n",
        "    loss_function=\"MultiClass\",\n",
        "    eval_metric=\"Accuracy\",\n",
        "    verbose=0,\n",
        "    random_seed=42,\n",
        "    early_stopping_rounds=10\n",
        ")"
      ],
      "metadata": {
        "id": "xGz6cSDWdbwR"
      },
      "execution_count": null,
      "outputs": []
    },
    {
      "cell_type": "markdown",
      "source": [
        "# Training Model"
      ],
      "metadata": {
        "id": "Ue_yVh-ceEAN"
      }
    },
    {
      "cell_type": "code",
      "source": [
        "model1.fit(X_train, y_train1, cat_features=cat_features, eval_set=(X_test, y_test1))"
      ],
      "metadata": {
        "colab": {
          "base_uri": "https://localhost:8080/"
        },
        "id": "FnJwMwdWA7pi",
        "outputId": "5c9eb8c9-b877-4c3e-fbbf-480727a8a662"
      },
      "execution_count": null,
      "outputs": [
        {
          "output_type": "execute_result",
          "data": {
            "text/plain": [
              "<catboost.core.CatBoostClassifier at 0x7a3348ffd610>"
            ]
          },
          "metadata": {},
          "execution_count": 30
        }
      ]
    },
    {
      "cell_type": "code",
      "source": [
        "model2.fit(X_train, y_train2, cat_features=cat_features, eval_set=(X_test, y_test2))\n"
      ],
      "metadata": {
        "id": "a5ldErPTeIkP",
        "colab": {
          "base_uri": "https://localhost:8080/"
        },
        "outputId": "aa0a506e-c76c-4a7d-9827-26c6c1730c31"
      },
      "execution_count": null,
      "outputs": [
        {
          "output_type": "execute_result",
          "data": {
            "text/plain": [
              "<catboost.core.CatBoostClassifier at 0x7a3348ffd2e0>"
            ]
          },
          "metadata": {},
          "execution_count": 31
        }
      ]
    },
    {
      "cell_type": "markdown",
      "source": [
        "#predicting top 3 internships"
      ],
      "metadata": {
        "id": "_QYRFyjP7Nxe"
      }
    },
    {
      "cell_type": "code",
      "metadata": {
        "id": "1ead0a8a"
      },
      "source": [
        "probs1 = model1.predict_proba(X_test)\n",
        "top3_preds1 = np.argsort(probs1, axis=1)[:, -3:][:, ::-1]\n",
        "top3_roles1 = [[label_enc1.inverse_transform([i])[0] for i in row] for row in top3_preds1]\n",
        "probs2 = model2.predict_proba(X_test)\n",
        "top3_preds2 = np.argsort(probs2, axis=1)[:, -3:][:, ::-1]\n",
        "top3_roles2 = [[label_enc2.inverse_transform([i])[0] for i in row] for row in top3_preds2]\n"
      ],
      "execution_count": null,
      "outputs": []
    },
    {
      "cell_type": "markdown",
      "source": [
        "# Show 5 sample recommendations"
      ],
      "metadata": {
        "id": "_H-r5wft7lRp"
      }
    },
    {
      "cell_type": "code",
      "source": [
        "for i in range(5):\n",
        "    print(f\"\\nCandidate {i+1} Profile:\")\n",
        "    print(X_test.iloc[i].to_dict())\n",
        "    print(top3_roles1[i])\n",
        "    print( top3_roles2[i])\n",
        "\n",
        "for i in range(5):\n",
        "    print(f\"\\nCandidate {i+1} Profile:\")\n",
        "    print(X_test.iloc[i].to_dict())\n",
        "    print(\"Top-3 Internship Company Suggestions:\", top3_roles2[i])"
      ],
      "metadata": {
        "colab": {
          "base_uri": "https://localhost:8080/"
        },
        "id": "t1UjyiT_7yB6",
        "outputId": "e806dfc4-0621-4e72-f231-ff1e49819c8e"
      },
      "execution_count": null,
      "outputs": [
        {
          "output_type": "stream",
          "name": "stdout",
          "text": [
            "\n",
            "Candidate 1 Profile:\n",
            "{'Age': 22, 'Level of Education': 'Diploma', 'Stream (if 12th pass)': 'Science', 'Degree (if graduate/diploma)': 'Diploma', 'Stream of Degree': 'Computer Science', 'Location of Applicant': 'Chandigarh, Chandigarh'}\n",
            "['Mercedes-Benz India', 'Mahindra & Mahindra', 'Max Life Insurance']\n",
            "['Mechanical Engineering Intern', 'Embedded Systems Intern', 'Automotive Engineering Intern']\n",
            "\n",
            "Candidate 2 Profile:\n",
            "{'Age': 24, 'Level of Education': 'Graduate', 'Stream (if 12th pass)': 'Science', 'Degree (if graduate/diploma)': 'Diploma', 'Stream of Degree': 'Finance', 'Location of Applicant': 'Thiruvananthapuram, Kerala'}\n",
            "['HDFC Bank', 'Alembic Pharmaceuticals', 'Reliance Industries Limited']\n",
            "['Finance Operations Intern', 'Regulatory Affairs Intern', 'Marketing Intern']\n",
            "\n",
            "Candidate 3 Profile:\n",
            "{'Age': 23, 'Level of Education': '12th Pass', 'Stream (if 12th pass)': 'Arts', 'Degree (if graduate/diploma)': 'Unknown', 'Stream of Degree': 'Unknown', 'Location of Applicant': 'Jaipur, Rajasthan'}\n",
            "['Reliance Industries Limited', 'Tata Consultancy Services (TCS)', 'HDFC Bank']\n",
            "['Safety & EHS Intern', 'Data Science Intern', 'Cloud Engineering Intern']\n",
            "\n",
            "Candidate 4 Profile:\n",
            "{'Age': 21, 'Level of Education': 'Graduate', 'Stream (if 12th pass)': 'Commerce', 'Degree (if graduate/diploma)': 'BBA', 'Stream of Degree': 'Biotechnology', 'Location of Applicant': 'Jaipur, Rajasthan'}\n",
            "['Tata Consultancy Services (TCS)', 'HDFC Bank', 'Mercedes-Benz India']\n",
            "['UX Research Intern', 'Customer Service Intern', 'Cloud Engineering Intern']\n",
            "\n",
            "Candidate 5 Profile:\n",
            "{'Age': 23, 'Level of Education': 'Diploma', 'Stream (if 12th pass)': 'Science', 'Degree (if graduate/diploma)': 'ITI', 'Stream of Degree': 'Electrical Engineering', 'Location of Applicant': 'Indore, Madhya Pradesh'}\n",
            "['Max Life Insurance', 'Alembic Pharmaceuticals', 'Mahindra & Mahindra']\n",
            "['Actuarial Analyst Intern', 'Sales & Distribution Intern', 'R&D Intern']\n",
            "\n",
            "Candidate 1 Profile:\n",
            "{'Age': 22, 'Level of Education': 'Diploma', 'Stream (if 12th pass)': 'Science', 'Degree (if graduate/diploma)': 'Diploma', 'Stream of Degree': 'Computer Science', 'Location of Applicant': 'Chandigarh, Chandigarh'}\n",
            "Top-3 Internship Company Suggestions: ['Mechanical Engineering Intern', 'Embedded Systems Intern', 'Automotive Engineering Intern']\n",
            "\n",
            "Candidate 2 Profile:\n",
            "{'Age': 24, 'Level of Education': 'Graduate', 'Stream (if 12th pass)': 'Science', 'Degree (if graduate/diploma)': 'Diploma', 'Stream of Degree': 'Finance', 'Location of Applicant': 'Thiruvananthapuram, Kerala'}\n",
            "Top-3 Internship Company Suggestions: ['Finance Operations Intern', 'Regulatory Affairs Intern', 'Marketing Intern']\n",
            "\n",
            "Candidate 3 Profile:\n",
            "{'Age': 23, 'Level of Education': '12th Pass', 'Stream (if 12th pass)': 'Arts', 'Degree (if graduate/diploma)': 'Unknown', 'Stream of Degree': 'Unknown', 'Location of Applicant': 'Jaipur, Rajasthan'}\n",
            "Top-3 Internship Company Suggestions: ['Safety & EHS Intern', 'Data Science Intern', 'Cloud Engineering Intern']\n",
            "\n",
            "Candidate 4 Profile:\n",
            "{'Age': 21, 'Level of Education': 'Graduate', 'Stream (if 12th pass)': 'Commerce', 'Degree (if graduate/diploma)': 'BBA', 'Stream of Degree': 'Biotechnology', 'Location of Applicant': 'Jaipur, Rajasthan'}\n",
            "Top-3 Internship Company Suggestions: ['UX Research Intern', 'Customer Service Intern', 'Cloud Engineering Intern']\n",
            "\n",
            "Candidate 5 Profile:\n",
            "{'Age': 23, 'Level of Education': 'Diploma', 'Stream (if 12th pass)': 'Science', 'Degree (if graduate/diploma)': 'ITI', 'Stream of Degree': 'Electrical Engineering', 'Location of Applicant': 'Indore, Madhya Pradesh'}\n",
            "Top-3 Internship Company Suggestions: ['Actuarial Analyst Intern', 'Sales & Distribution Intern', 'R&D Intern']\n"
          ]
        }
      ]
    },
    {
      "cell_type": "markdown",
      "source": [
        "#Accuracy"
      ],
      "metadata": {
        "id": "8PgmGgHb77qs"
      }
    },
    {
      "cell_type": "code",
      "source": [
        "from sklearn.metrics import accuracy_score\n",
        "\n",
        "# ---- Top-1 Accuracy ----\n",
        "y_pred1 = model1.predict(X_test)\n",
        "y_pred2 = model2.predict(X_test)\n",
        "top1_acc1 = accuracy_score(y_test1, y_pred1)\n",
        "print(\"Top-1 Accuracy:\", round(top1_acc1, 3))\n",
        "\n",
        "# ---- Top-3 Accuracy ----\n",
        "correct = 0\n",
        "for i, true_label in enumerate(y_test1):\n",
        "    if true_label in top3_preds1[i]:  # check if true label is in top 3 predictions\n",
        "        correct += 1\n",
        "\n",
        "top3_acc1 = correct / len(y_test1)\n",
        "print(\"Top-3 Accuracy:\", round(top3_acc1, 3))"
      ],
      "metadata": {
        "colab": {
          "base_uri": "https://localhost:8080/"
        },
        "id": "qzkjjIiw8k8t",
        "outputId": "7e4ee886-072f-487b-8816-a0021dee510c"
      },
      "execution_count": null,
      "outputs": [
        {
          "output_type": "stream",
          "name": "stdout",
          "text": [
            "Top-1 Accuracy: 0.75\n",
            "Top-3 Accuracy: 0.94\n"
          ]
        }
      ]
    },
    {
      "cell_type": "code",
      "source": [
        "# for y1\n",
        "from sklearn.metrics import confusion_matrix,accuracy_score\n",
        "cm=confusion_matrix(y_pred1,y_test1)\n",
        "print(cm)\n",
        "accuracy_score(y_test1,y_pred1)"
      ],
      "metadata": {
        "colab": {
          "base_uri": "https://localhost:8080/"
        },
        "id": "0d5iGgHoIGd2",
        "outputId": "903f9c1e-87b7-431e-958a-c54b77bc59b2"
      },
      "execution_count": null,
      "outputs": [
        {
          "output_type": "stream",
          "name": "stdout",
          "text": [
            "[[31  4  3  0  0  2  1]\n",
            " [ 0 28  0  0  0  0  0]\n",
            " [ 2  5 29  3  5  2  0]\n",
            " [ 7  2  0 38  2  3  0]\n",
            " [ 0  0  3  0 29  1  2]\n",
            " [ 0  0  6  0  5 34  4]\n",
            " [ 2  6  0  2  2  1 36]]\n"
          ]
        },
        {
          "output_type": "execute_result",
          "data": {
            "text/plain": [
              "0.75"
            ]
          },
          "metadata": {},
          "execution_count": 42
        }
      ]
    },
    {
      "cell_type": "code",
      "source": [
        "# for y2\n",
        "from sklearn.metrics import confusion_matrix,accuracy_score\n",
        "cm2=confusion_matrix(y_pred2,y_test2)\n",
        "print(cm2)\n",
        "accuracy_score(y_test2,y_pred2)"
      ],
      "metadata": {
        "colab": {
          "base_uri": "https://localhost:8080/"
        },
        "id": "Tuq8CM-tIXuM",
        "outputId": "974c44ec-9bb5-4c0c-a38c-1c804ed4ede2"
      },
      "execution_count": null,
      "outputs": [
        {
          "output_type": "stream",
          "name": "stdout",
          "text": [
            "[[11  0  0  0  0  0  0  0  0  0  0  0  0  0  0  0  0  2  0  0  0  0  0  0\n",
            "   0  0  0]\n",
            " [ 0  1  0  0  0  0  0  0  0  0  0  0  0  0  0  0  0  0  0  0  0  0  0  0\n",
            "   0  0  0]\n",
            " [ 0  0 18  3  3  0  0  0  0  0  0  0  0  0  0  0  0  0  0  0  0  0  1  0\n",
            "   0  3  0]\n",
            " [ 0  0  1 11  0  0  0  0  0  0  0  0  0  0  0  0  0  0  0  2  0  0  0  0\n",
            "   0  0  0]\n",
            " [ 0  3  0  0  7  0  3  0  0  0  0  0  0  0  0  0  0  0  0  0  0  0  0  0\n",
            "   0  0  0]\n",
            " [ 0  0  0  0  0  1  0  0  0  0  0  0  0  0  0  0  0  0  0  0  0  0  0  0\n",
            "   0  0  0]\n",
            " [ 0  0  0  0  2  0  3  0  0  0  0  0  0  0  0  0  0  0  0  0  0  0  0  0\n",
            "   0  0  0]\n",
            " [ 0  0  0  0  0  0  0  9  0  1  0  0  0  0  0  0  0  0  0  0  0  0  0  0\n",
            "   0  0  0]\n",
            " [ 0  0  0  0  0  0  0  0  6  0  0  0  0  0  0  5  1  0  0  0  0  0  0  0\n",
            "   0  0  0]\n",
            " [ 0  1  0  0  0  0  0  0  0  9  0  0  0  0  0  0  0  0  0  0  0  0  0  0\n",
            "   0  0  0]\n",
            " [ 0  0  0  0  0  0  0  0  0  0  5  0  0  0  0  0  0  0  0  0  0  0  0  0\n",
            "   0  0  0]\n",
            " [ 0  0  0  0  0  0  0  0  0  0  0 10  0  0  0  0  0  0  0  0  0  0  0  0\n",
            "   0  0  0]\n",
            " [ 0  0  0  0  0  0  0  0  0  0  0  0  8  0  0  0  0  0  0  0  0  0  0  0\n",
            "   0  0  0]\n",
            " [ 0  2  0  0  0  0  0  0  0  0  0  0  0  2  0  0  0  0  0  0  0  0  0  0\n",
            "   0  0  0]\n",
            " [ 0  0  0  0  0  0  0  0  0  0  0  0  0  0  7  0  0  0  0  0  0  0  0  0\n",
            "   0  0  0]\n",
            " [ 0  0  0  0  0  0  0  0  0  0  0  0  0  0  0  8  0  0  0  0  0  0  0  2\n",
            "   0  0  0]\n",
            " [ 0  0  0  0  0  0  0  0  0  0  0  0  3  4  0  2  8  0  3  0  0  0  0  0\n",
            "   0  0  0]\n",
            " [ 0  0  0  0  0  0  0  0  0  0  0  0  0  0  0  0  0  6  0  0  0  0  0  0\n",
            "   0  0  0]\n",
            " [ 0  0  0  0  0  0  0  0  0  0  0  0  0  0  0  0  0  0  2  0  0  0  0  0\n",
            "   0  0  0]\n",
            " [ 0  0  0  0  0  0  0  0  0  0  0  0  0  0  0  0  0  0  0  9  0  0  0  3\n",
            "   0  6  0]\n",
            " [ 0  0  0  0  0  0  0  0  0  0  0  0  0  3  0  0  0  0  0  0  9  0  0  0\n",
            "   0  0  0]\n",
            " [ 0  0  0  0  0  0  0  0  0  0  0  0  0  0  0  0  0  0  0  0  0  6  0  0\n",
            "   0  0  0]\n",
            " [ 0  0  0  0  0  0  2  0  0  0  0  0  0  0  0  0  0  0  0  0  0  0  6  0\n",
            "   0  0  5]\n",
            " [ 0  0  0  2  0  0  0  0  0  0  0  0  0  0  0  0  0  0  2  0  0  0  0 12\n",
            "   0  0  0]\n",
            " [ 0  0  0  0  0  0  0  0  0  0  0  0  0  0  0  0  0  0  0  0  0  0  0  0\n",
            "   4  0  0]\n",
            " [ 0  3  2  0  0  0  2  2  4  0  3  0  2  0  0  0  0  0  0  0  0  0  0  0\n",
            "   0 22  0]\n",
            " [ 0  0  0  0  0  3  0  0  0  0  0  0  0  0  0  0  0  0  0  0  0  0  0  0\n",
            "   0  0  9]]\n"
          ]
        },
        {
          "output_type": "execute_result",
          "data": {
            "text/plain": [
              "0.6966666666666667"
            ]
          },
          "metadata": {},
          "execution_count": 46
        }
      ]
    },
    {
      "cell_type": "code",
      "source": [
        "# # ---- Top-1 Accuracy ----\n",
        "# y_pred2 = model2.predict(X_test)\n",
        "# top1_acc2 = accuracy_score(y_test2, y_pred2)\n",
        "# print(\"Top-1 Accuracy:\", round(top1_acc2, 3))\n",
        "\n",
        "# # ---- Top-3 Accuracy ----\n",
        "# correct = 0\n",
        "# for i, true_label in enumerate(y_test1):\n",
        "#     if true_label in top3_preds1[i]:  # check if true label is in top 3 predictions\n",
        "#         correct += 1\n",
        "\n",
        "# top3_acc2 = correct / len(y_test2)\n",
        "# print(\"Top-3 Accuracy:\", round(top3_acc2, 3))"
      ],
      "metadata": {
        "id": "ycWllUptF-I7"
      },
      "execution_count": null,
      "outputs": []
    }
  ]
}